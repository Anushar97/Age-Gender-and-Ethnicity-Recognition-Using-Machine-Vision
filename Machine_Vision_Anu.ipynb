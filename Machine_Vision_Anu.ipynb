{
  "nbformat": 4,
  "nbformat_minor": 0,
  "metadata": {
    "colab": {
      "provenance": [],
      "gpuType": "T4"
    },
    "kernelspec": {
      "name": "python3",
      "display_name": "Python 3"
    },
    "language_info": {
      "name": "python"
    },
    "accelerator": "GPU"
  },
  "cells": [
    {
      "cell_type": "code",
      "source": [
        "pip install tensorflow-addons"
      ],
      "metadata": {
        "colab": {
          "base_uri": "https://localhost:8080/"
        },
        "id": "4t-tW6t_ZcJh",
        "outputId": "644c14ab-ee97-4a37-9235-5667021ab561"
      },
      "execution_count": null,
      "outputs": [
        {
          "output_type": "stream",
          "name": "stdout",
          "text": [
            "Requirement already satisfied: tensorflow-addons in /usr/local/lib/python3.10/dist-packages (0.23.0)\n",
            "Requirement already satisfied: packaging in /usr/local/lib/python3.10/dist-packages (from tensorflow-addons) (24.0)\n",
            "Requirement already satisfied: typeguard<3.0.0,>=2.7 in /usr/local/lib/python3.10/dist-packages (from tensorflow-addons) (2.13.3)\n"
          ]
        }
      ]
    },
    {
      "cell_type": "code",
      "source": [
        "import numpy as np\n",
        "import pandas as pd\n",
        "import os\n",
        "\n",
        "from matplotlib import pyplot as plt\n",
        "import tensorflow as tf\n",
        "import tensorflow_addons as tfa\n",
        "from tensorflow.keras.layers import LeakyReLU\n",
        "import cv2\n",
        "from tqdm import tqdm\n",
        "import random\n",
        "import math\n",
        "from tensorflow.keras.preprocessing.image import ImageDataGenerator\n",
        "from tensorflow.keras.utils import to_categorical"
      ],
      "metadata": {
        "id": "s8F9OKlfZLWW"
      },
      "execution_count": null,
      "outputs": []
    },
    {
      "cell_type": "code",
      "source": [
        "dataframe = pd.read_csv('age_gender.csv')\n",
        "dataframe.head()"
      ],
      "metadata": {
        "colab": {
          "base_uri": "https://localhost:8080/",
          "height": 204
        },
        "id": "cK1kAKsgZSg-",
        "outputId": "617a66a3-8012-4655-d92b-fe9c872b75fc"
      },
      "execution_count": null,
      "outputs": [
        {
          "output_type": "execute_result",
          "data": {
            "text/plain": [
              "   age  ethnicity  gender                        img_name  \\\n",
              "0    1          2       0  20161219203650636.jpg.chip.jpg   \n",
              "1    1          2       0  20161219222752047.jpg.chip.jpg   \n",
              "2    1          2       0  20161219222832191.jpg.chip.jpg   \n",
              "3    1          2       0  20161220144911423.jpg.chip.jpg   \n",
              "4    1          2       0  20161220144914327.jpg.chip.jpg   \n",
              "\n",
              "                                              pixels  \n",
              "0  129 128 128 126 127 130 133 135 139 142 145 14...  \n",
              "1  164 74 111 168 169 171 175 182 184 188 193 199...  \n",
              "2  67 70 71 70 69 67 70 79 90 103 116 132 145 155...  \n",
              "3  193 197 198 200 199 200 202 203 204 205 208 21...  \n",
              "4  202 205 209 210 209 209 210 211 212 214 218 21...  "
            ],
            "text/html": [
              "\n",
              "  <div id=\"df-2d840b2f-3d19-4388-af47-ecd596b3f742\" class=\"colab-df-container\">\n",
              "    <div>\n",
              "<style scoped>\n",
              "    .dataframe tbody tr th:only-of-type {\n",
              "        vertical-align: middle;\n",
              "    }\n",
              "\n",
              "    .dataframe tbody tr th {\n",
              "        vertical-align: top;\n",
              "    }\n",
              "\n",
              "    .dataframe thead th {\n",
              "        text-align: right;\n",
              "    }\n",
              "</style>\n",
              "<table border=\"1\" class=\"dataframe\">\n",
              "  <thead>\n",
              "    <tr style=\"text-align: right;\">\n",
              "      <th></th>\n",
              "      <th>age</th>\n",
              "      <th>ethnicity</th>\n",
              "      <th>gender</th>\n",
              "      <th>img_name</th>\n",
              "      <th>pixels</th>\n",
              "    </tr>\n",
              "  </thead>\n",
              "  <tbody>\n",
              "    <tr>\n",
              "      <th>0</th>\n",
              "      <td>1</td>\n",
              "      <td>2</td>\n",
              "      <td>0</td>\n",
              "      <td>20161219203650636.jpg.chip.jpg</td>\n",
              "      <td>129 128 128 126 127 130 133 135 139 142 145 14...</td>\n",
              "    </tr>\n",
              "    <tr>\n",
              "      <th>1</th>\n",
              "      <td>1</td>\n",
              "      <td>2</td>\n",
              "      <td>0</td>\n",
              "      <td>20161219222752047.jpg.chip.jpg</td>\n",
              "      <td>164 74 111 168 169 171 175 182 184 188 193 199...</td>\n",
              "    </tr>\n",
              "    <tr>\n",
              "      <th>2</th>\n",
              "      <td>1</td>\n",
              "      <td>2</td>\n",
              "      <td>0</td>\n",
              "      <td>20161219222832191.jpg.chip.jpg</td>\n",
              "      <td>67 70 71 70 69 67 70 79 90 103 116 132 145 155...</td>\n",
              "    </tr>\n",
              "    <tr>\n",
              "      <th>3</th>\n",
              "      <td>1</td>\n",
              "      <td>2</td>\n",
              "      <td>0</td>\n",
              "      <td>20161220144911423.jpg.chip.jpg</td>\n",
              "      <td>193 197 198 200 199 200 202 203 204 205 208 21...</td>\n",
              "    </tr>\n",
              "    <tr>\n",
              "      <th>4</th>\n",
              "      <td>1</td>\n",
              "      <td>2</td>\n",
              "      <td>0</td>\n",
              "      <td>20161220144914327.jpg.chip.jpg</td>\n",
              "      <td>202 205 209 210 209 209 210 211 212 214 218 21...</td>\n",
              "    </tr>\n",
              "  </tbody>\n",
              "</table>\n",
              "</div>\n",
              "    <div class=\"colab-df-buttons\">\n",
              "\n",
              "  <div class=\"colab-df-container\">\n",
              "    <button class=\"colab-df-convert\" onclick=\"convertToInteractive('df-2d840b2f-3d19-4388-af47-ecd596b3f742')\"\n",
              "            title=\"Convert this dataframe to an interactive table.\"\n",
              "            style=\"display:none;\">\n",
              "\n",
              "  <svg xmlns=\"http://www.w3.org/2000/svg\" height=\"24px\" viewBox=\"0 -960 960 960\">\n",
              "    <path d=\"M120-120v-720h720v720H120Zm60-500h600v-160H180v160Zm220 220h160v-160H400v160Zm0 220h160v-160H400v160ZM180-400h160v-160H180v160Zm440 0h160v-160H620v160ZM180-180h160v-160H180v160Zm440 0h160v-160H620v160Z\"/>\n",
              "  </svg>\n",
              "    </button>\n",
              "\n",
              "  <style>\n",
              "    .colab-df-container {\n",
              "      display:flex;\n",
              "      gap: 12px;\n",
              "    }\n",
              "\n",
              "    .colab-df-convert {\n",
              "      background-color: #E8F0FE;\n",
              "      border: none;\n",
              "      border-radius: 50%;\n",
              "      cursor: pointer;\n",
              "      display: none;\n",
              "      fill: #1967D2;\n",
              "      height: 32px;\n",
              "      padding: 0 0 0 0;\n",
              "      width: 32px;\n",
              "    }\n",
              "\n",
              "    .colab-df-convert:hover {\n",
              "      background-color: #E2EBFA;\n",
              "      box-shadow: 0px 1px 2px rgba(60, 64, 67, 0.3), 0px 1px 3px 1px rgba(60, 64, 67, 0.15);\n",
              "      fill: #174EA6;\n",
              "    }\n",
              "\n",
              "    .colab-df-buttons div {\n",
              "      margin-bottom: 4px;\n",
              "    }\n",
              "\n",
              "    [theme=dark] .colab-df-convert {\n",
              "      background-color: #3B4455;\n",
              "      fill: #D2E3FC;\n",
              "    }\n",
              "\n",
              "    [theme=dark] .colab-df-convert:hover {\n",
              "      background-color: #434B5C;\n",
              "      box-shadow: 0px 1px 3px 1px rgba(0, 0, 0, 0.15);\n",
              "      filter: drop-shadow(0px 1px 2px rgba(0, 0, 0, 0.3));\n",
              "      fill: #FFFFFF;\n",
              "    }\n",
              "  </style>\n",
              "\n",
              "    <script>\n",
              "      const buttonEl =\n",
              "        document.querySelector('#df-2d840b2f-3d19-4388-af47-ecd596b3f742 button.colab-df-convert');\n",
              "      buttonEl.style.display =\n",
              "        google.colab.kernel.accessAllowed ? 'block' : 'none';\n",
              "\n",
              "      async function convertToInteractive(key) {\n",
              "        const element = document.querySelector('#df-2d840b2f-3d19-4388-af47-ecd596b3f742');\n",
              "        const dataTable =\n",
              "          await google.colab.kernel.invokeFunction('convertToInteractive',\n",
              "                                                    [key], {});\n",
              "        if (!dataTable) return;\n",
              "\n",
              "        const docLinkHtml = 'Like what you see? Visit the ' +\n",
              "          '<a target=\"_blank\" href=https://colab.research.google.com/notebooks/data_table.ipynb>data table notebook</a>'\n",
              "          + ' to learn more about interactive tables.';\n",
              "        element.innerHTML = '';\n",
              "        dataTable['output_type'] = 'display_data';\n",
              "        await google.colab.output.renderOutput(dataTable, element);\n",
              "        const docLink = document.createElement('div');\n",
              "        docLink.innerHTML = docLinkHtml;\n",
              "        element.appendChild(docLink);\n",
              "      }\n",
              "    </script>\n",
              "  </div>\n",
              "\n",
              "\n",
              "<div id=\"df-e80f4318-a8d9-49b4-9851-1b356b45d5f6\">\n",
              "  <button class=\"colab-df-quickchart\" onclick=\"quickchart('df-e80f4318-a8d9-49b4-9851-1b356b45d5f6')\"\n",
              "            title=\"Suggest charts\"\n",
              "            style=\"display:none;\">\n",
              "\n",
              "<svg xmlns=\"http://www.w3.org/2000/svg\" height=\"24px\"viewBox=\"0 0 24 24\"\n",
              "     width=\"24px\">\n",
              "    <g>\n",
              "        <path d=\"M19 3H5c-1.1 0-2 .9-2 2v14c0 1.1.9 2 2 2h14c1.1 0 2-.9 2-2V5c0-1.1-.9-2-2-2zM9 17H7v-7h2v7zm4 0h-2V7h2v10zm4 0h-2v-4h2v4z\"/>\n",
              "    </g>\n",
              "</svg>\n",
              "  </button>\n",
              "\n",
              "<style>\n",
              "  .colab-df-quickchart {\n",
              "      --bg-color: #E8F0FE;\n",
              "      --fill-color: #1967D2;\n",
              "      --hover-bg-color: #E2EBFA;\n",
              "      --hover-fill-color: #174EA6;\n",
              "      --disabled-fill-color: #AAA;\n",
              "      --disabled-bg-color: #DDD;\n",
              "  }\n",
              "\n",
              "  [theme=dark] .colab-df-quickchart {\n",
              "      --bg-color: #3B4455;\n",
              "      --fill-color: #D2E3FC;\n",
              "      --hover-bg-color: #434B5C;\n",
              "      --hover-fill-color: #FFFFFF;\n",
              "      --disabled-bg-color: #3B4455;\n",
              "      --disabled-fill-color: #666;\n",
              "  }\n",
              "\n",
              "  .colab-df-quickchart {\n",
              "    background-color: var(--bg-color);\n",
              "    border: none;\n",
              "    border-radius: 50%;\n",
              "    cursor: pointer;\n",
              "    display: none;\n",
              "    fill: var(--fill-color);\n",
              "    height: 32px;\n",
              "    padding: 0;\n",
              "    width: 32px;\n",
              "  }\n",
              "\n",
              "  .colab-df-quickchart:hover {\n",
              "    background-color: var(--hover-bg-color);\n",
              "    box-shadow: 0 1px 2px rgba(60, 64, 67, 0.3), 0 1px 3px 1px rgba(60, 64, 67, 0.15);\n",
              "    fill: var(--button-hover-fill-color);\n",
              "  }\n",
              "\n",
              "  .colab-df-quickchart-complete:disabled,\n",
              "  .colab-df-quickchart-complete:disabled:hover {\n",
              "    background-color: var(--disabled-bg-color);\n",
              "    fill: var(--disabled-fill-color);\n",
              "    box-shadow: none;\n",
              "  }\n",
              "\n",
              "  .colab-df-spinner {\n",
              "    border: 2px solid var(--fill-color);\n",
              "    border-color: transparent;\n",
              "    border-bottom-color: var(--fill-color);\n",
              "    animation:\n",
              "      spin 1s steps(1) infinite;\n",
              "  }\n",
              "\n",
              "  @keyframes spin {\n",
              "    0% {\n",
              "      border-color: transparent;\n",
              "      border-bottom-color: var(--fill-color);\n",
              "      border-left-color: var(--fill-color);\n",
              "    }\n",
              "    20% {\n",
              "      border-color: transparent;\n",
              "      border-left-color: var(--fill-color);\n",
              "      border-top-color: var(--fill-color);\n",
              "    }\n",
              "    30% {\n",
              "      border-color: transparent;\n",
              "      border-left-color: var(--fill-color);\n",
              "      border-top-color: var(--fill-color);\n",
              "      border-right-color: var(--fill-color);\n",
              "    }\n",
              "    40% {\n",
              "      border-color: transparent;\n",
              "      border-right-color: var(--fill-color);\n",
              "      border-top-color: var(--fill-color);\n",
              "    }\n",
              "    60% {\n",
              "      border-color: transparent;\n",
              "      border-right-color: var(--fill-color);\n",
              "    }\n",
              "    80% {\n",
              "      border-color: transparent;\n",
              "      border-right-color: var(--fill-color);\n",
              "      border-bottom-color: var(--fill-color);\n",
              "    }\n",
              "    90% {\n",
              "      border-color: transparent;\n",
              "      border-bottom-color: var(--fill-color);\n",
              "    }\n",
              "  }\n",
              "</style>\n",
              "\n",
              "  <script>\n",
              "    async function quickchart(key) {\n",
              "      const quickchartButtonEl =\n",
              "        document.querySelector('#' + key + ' button');\n",
              "      quickchartButtonEl.disabled = true;  // To prevent multiple clicks.\n",
              "      quickchartButtonEl.classList.add('colab-df-spinner');\n",
              "      try {\n",
              "        const charts = await google.colab.kernel.invokeFunction(\n",
              "            'suggestCharts', [key], {});\n",
              "      } catch (error) {\n",
              "        console.error('Error during call to suggestCharts:', error);\n",
              "      }\n",
              "      quickchartButtonEl.classList.remove('colab-df-spinner');\n",
              "      quickchartButtonEl.classList.add('colab-df-quickchart-complete');\n",
              "    }\n",
              "    (() => {\n",
              "      let quickchartButtonEl =\n",
              "        document.querySelector('#df-e80f4318-a8d9-49b4-9851-1b356b45d5f6 button');\n",
              "      quickchartButtonEl.style.display =\n",
              "        google.colab.kernel.accessAllowed ? 'block' : 'none';\n",
              "    })();\n",
              "  </script>\n",
              "</div>\n",
              "\n",
              "    </div>\n",
              "  </div>\n"
            ],
            "application/vnd.google.colaboratory.intrinsic+json": {
              "type": "dataframe",
              "variable_name": "dataframe",
              "summary": "{\n  \"name\": \"dataframe\",\n  \"rows\": 20823,\n  \"fields\": [\n    {\n      \"column\": \"age\",\n      \"properties\": {\n        \"dtype\": \"number\",\n        \"std\": 15,\n        \"min\": 1,\n        \"max\": 116,\n        \"num_unique_values\": 66,\n        \"samples\": [\n          51,\n          59,\n          1\n        ],\n        \"semantic_type\": \"\",\n        \"description\": \"\"\n      }\n    },\n    {\n      \"column\": \"ethnicity\",\n      \"properties\": {\n        \"dtype\": \"number\",\n        \"std\": 1,\n        \"min\": 0,\n        \"max\": 4,\n        \"num_unique_values\": 5,\n        \"samples\": [\n          3,\n          1,\n          4\n        ],\n        \"semantic_type\": \"\",\n        \"description\": \"\"\n      }\n    },\n    {\n      \"column\": \"gender\",\n      \"properties\": {\n        \"dtype\": \"number\",\n        \"std\": 0,\n        \"min\": 0,\n        \"max\": 1,\n        \"num_unique_values\": 2,\n        \"samples\": [\n          1,\n          0\n        ],\n        \"semantic_type\": \"\",\n        \"description\": \"\"\n      }\n    },\n    {\n      \"column\": \"img_name\",\n      \"properties\": {\n        \"dtype\": \"string\",\n        \"num_unique_values\": 20644,\n        \"samples\": [\n          \"20170116192855160.jpg.chip.jpg\",\n          \"20170117120612576.jpg.chip.jpg\"\n        ],\n        \"semantic_type\": \"\",\n        \"description\": \"\"\n      }\n    },\n    {\n      \"column\": \"pixels\",\n      \"properties\": {\n        \"dtype\": \"string\",\n        \"num_unique_values\": 20493,\n        \"samples\": [\n          \"43 55 70 84 103 115 120 132 136 136 140 144 147 151 154 158 162 163 168 169 172 180 178 181 182 179 176 170 168 168 168 166 164 160 156 152 151 147 144 136 115 84 63 49 55 77 79 95 47 50 63 85 107 120 125 135 136 137 142 146 146 151 155 160 162 165 169 170 174 178 182 187 182 184 175 171 170 168 168 165 162 159 155 150 149 150 142 138 118 87 59 52 40 64 79 88 38 54 73 95 106 118 125 136 137 140 142 143 148 150 156 160 162 163 168 173 171 178 181 187 187 186 180 176 172 170 166 165 164 161 158 154 149 152 144 137 124 100 64 48 39 66 76 90 40 59 66 92 108 117 127 131 136 138 142 143 151 153 159 162 163 167 168 168 175 174 179 185 189 184 177 172 170 170 166 166 161 160 159 154 149 152 145 139 126 100 72 51 43 70 75 105 45 62 75 105 110 117 120 137 136 135 142 147 150 153 157 163 163 168 172 170 176 181 180 181 188 184 178 177 175 170 169 167 164 162 158 155 150 147 144 137 128 109 75 57 50 72 78 103 51 70 89 108 110 112 122 131 134 138 147 146 149 154 157 161 165 170 177 179 183 193 182 189 181 184 186 177 176 174 170 166 163 161 160 158 156 149 144 136 129 113 81 69 52 74 85 104 60 87 105 114 111 116 124 129 134 139 143 142 142 149 159 166 170 176 184 181 189 192 184 183 187 194 191 188 181 175 171 166 159 158 157 155 156 152 140 134 131 123 83 78 53 74 94 104 68 97 106 111 115 116 119 127 116 112 108 113 118 130 135 146 166 183 188 190 191 201 190 188 195 186 192 189 192 180 171 166 159 141 124 125 130 141 142 133 132 129 101 79 58 71 98 106 80 99 111 105 109 111 99 81 95 84 86 90 93 89 94 101 109 124 161 179 184 196 183 190 191 191 190 188 183 146 133 116 109 110 101 97 91 88 100 123 129 127 105 81 71 77 99 107 86 100 108 98 110 103 87 102 123 132 145 147 148 140 136 127 109 104 128 160 170 181 185 185 186 179 176 173 142 111 85 97 105 126 138 134 139 125 112 98 127 125 111 84 80 86 99 116 96 96 105 104 97 91 102 117 118 125 135 142 148 155 160 170 155 138 132 148 162 173 182 189 188 174 175 166 143 143 144 165 172 165 159 146 139 135 126 118 112 124 108 85 93 89 99 128 90 99 109 111 99 100 109 110 116 123 129 138 138 151 164 164 153 152 153 140 150 165 172 188 180 169 164 155 163 173 174 181 178 170 161 139 133 128 121 120 122 126 118 67 97 91 104 138 95 102 100 124 107 103 100 114 117 123 115 115 101 82 82 87 97 124 137 147 137 156 170 191 177 165 154 158 160 155 136 123 121 120 105 120 124 126 121 115 132 132 124 64 100 95 117 148 97 103 102 123 115 98 99 110 118 87 61 41 42 62 69 64 67 75 120 147 129 134 165 183 175 161 144 153 139 118 117 87 70 56 31 44 42 88 113 114 139 128 125 84 104 100 131 165 103 98 109 134 128 105 104 104 50 32 49 127 147 83 68 46 83 99 139 153 129 123 155 176 164 150 137 143 122 114 126 147 115 58 67 74 55 43 110 123 146 135 124 112 103 101 141 175 100 93 114 131 136 123 112 121 113 89 76 107 128 112 110 111 116 110 131 143 130 120 147 172 166 150 141 132 123 106 110 129 130 97 89 102 81 110 139 141 156 144 127 119 100 103 153 180 98 93 110 127 137 135 131 131 140 137 134 130 118 111 135 145 136 152 154 145 144 118 136 154 162 149 145 165 159 159 153 143 147 127 114 127 144 148 149 145 152 145 126 121 108 116 161 180 95 91 109 122 138 134 132 144 145 149 146 153 160 167 168 166 173 173 158 164 156 115 139 150 155 150 150 164 174 177 177 179 177 176 172 164 164 169 157 151 155 149 128 123 109 118 157 177 87 89 108 126 133 140 139 153 161 161 155 158 160 167 174 175 173 175 174 174 141 118 136 149 157 148 143 156 174 182 181 179 177 175 173 170 168 170 160 152 152 149 129 129 108 121 158 175 83 87 103 121 131 136 138 149 150 154 151 161 162 172 170 173 180 184 174 149 123 120 133 150 156 149 142 143 160 173 177 172 174 172 171 165 167 170 158 149 150 146 129 124 108 125 159 174 81 86 102 115 122 128 135 142 141 149 160 173 181 181 180 185 176 170 150 134 129 118 132 148 154 150 145 149 159 166 164 165 167 164 163 161 158 157 154 150 149 143 128 123 101 136 151 170 82 80 99 112 119 126 133 139 147 156 166 168 172 173 169 166 164 162 148 131 115 117 129 141 155 149 137 150 169 177 178 166 162 159 162 162 156 156 152 146 142 143 128 120 103 139 140 173 82 77 97 109 115 123 133 138 149 153 163 166 166 163 166 171 184 183 148 116 108 127 136 138 143 143 134 141 149 179 184 183 174 168 165 169 164 157 152 145 142 139 128 111 105 146 137 178 82 78 94 104 114 123 135 142 150 155 165 171 173 173 186 187 174 159 118 112 115 132 143 153 158 157 147 135 142 156 168 181 186 178 173 168 169 163 155 149 142 133 125 111 127 155 131 174 85 77 89 97 112 124 135 142 148 159 161 172 184 194 185 171 160 118 118 122 124 131 144 166 182 170 153 144 149 145 161 162 167 189 184 176 169 167 156 152 142 134 123 102 136 164 122 152 85 79 87 91 110 128 136 143 149 155 164 169 177 169 166 160 162 106 125 134 126 121 140 160 161 166 153 144 148 155 159 161 156 160 167 174 171 163 158 153 146 133 126 92 142 165 112 131 89 81 90 88 108 124 136 143 151 156 161 164 161 158 157 161 164 132 124 129 116 71 111 140 142 149 131 127 128 145 162 161 156 152 162 164 164 161 156 154 146 131 128 93 145 165 116 117 92 81 93 91 105 123 135 144 147 154 157 156 155 155 159 163 158 157 152 141 155 144 124 124 132 146 157 156 160 164 157 158 158 149 154 159 159 159 154 153 145 130 127 103 148 175 130 115 92 82 89 99 105 117 131 140 143 147 154 153 150 154 154 154 151 153 154 160 162 165 167 161 161 168 169 162 163 158 157 161 160 161 148 153 154 156 152 148 139 131 129 95 147 166 136 111 82 75 95 107 110 115 121 130 135 143 145 144 150 154 151 146 145 151 154 160 164 172 184 188 181 189 172 164 162 159 159 159 161 163 158 150 149 150 147 141 139 133 124 67 145 161 140 111 89 79 99 111 121 128 129 127 132 142 145 150 154 151 149 143 148 152 153 159 159 172 174 175 172 172 175 161 163 158 155 157 161 165 162 156 153 147 144 141 151 140 104 78 136 150 139 111 125 81 99 112 125 140 146 142 134 159 162 158 156 148 145 139 133 126 124 129 124 139 154 173 183 149 137 129 126 125 124 149 155 164 169 164 163 146 158 164 160 139 83 70 138 132 130 112 108 78 98 108 129 137 146 150 136 169 173 168 134 118 101 83 88 91 103 102 108 106 105 112 111 108 117 126 124 108 100 92 123 155 168 173 175 158 160 176 163 135 62 69 132 126 123 114 79 61 96 109 130 135 142 147 144 162 180 169 128 95 71 107 123 127 167 160 201 154 202 180 175 190 166 184 176 156 142 55 114 134 174 183 170 164 165 176 160 128 50 62 120 121 115 109 48 51 89 108 127 136 144 145 156 154 181 173 157 137 112 91 91 112 146 157 174 168 179 180 179 181 181 172 162 122 96 108 153 165 175 179 167 162 173 176 154 122 51 61 114 112 108 103 65 52 81 100 122 135 143 139 146 159 175 181 164 155 141 111 103 96 95 103 108 122 118 119 123 120 117 114 113 110 111 134 161 166 178 183 169 155 180 174 143 108 104 85 108 108 103 97 51 58 67 92 114 129 139 142 140 152 167 171 160 151 146 142 126 110 107 108 114 124 120 127 128 126 122 118 111 110 128 153 157 165 177 180 167 161 179 169 137 64 79 75 96 105 104 92 35 26 35 84 105 122 135 143 139 146 158 166 159 148 148 150 145 137 130 122 112 114 138 131 126 126 117 121 133 145 151 153 160 162 173 173 155 170 175 160 125 62 156 101 99 96 98 91 40 30 24 67 96 114 127 138 142 139 143 156 155 144 144 150 153 143 148 153 162 164 172 168 173 167 169 165 157 154 156 159 157 159 167 166 151 172 165 147 89 66 86 96 99 96 88 90 34 33 29 56 81 102 121 130 140 136 135 141 143 145 142 147 150 155 152 160 164 174 177 179 178 176 177 168 165 165 159 157 156 153 158 152 162 170 159 131 68 77 78 94 92 99 90 90 39 45 34 58 68 88 108 118 132 137 131 131 139 140 140 143 146 158 157 162 168 185 185 187 193 185 180 174 165 165 164 158 150 149 155 152 165 164 141 97 80 86 92 95 103 95 101 100 70 40 48 59 64 71 87 105 122 130 129 126 131 132 135 139 143 157 159 163 163 170 173 173 169 171 169 169 167 168 163 153 150 141 145 157 162 154 124 83 113 130 117 108 103 106 116 104 44 77 57 58 68 69 74 88 109 124 126 121 122 127 130 137 143 154 158 160 155 161 164 166 176 165 164 160 162 164 162 153 145 136 146 161 150 136 103 123 140 130 127 111 111 122 111 101 41 51 81 68 69 72 68 72 88 110 119 119 113 121 123 136 142 147 155 159 159 167 178 178 182 178 166 161 162 163 158 149 140 129 150 148 137 119 109 126 137 136 132 120 111 124 99 105 52 45 57 65 73 72 70 72 72 89 110 114 110 105 114 123 136 140 151 158 167 180 194 202 199 190 181 163 163 159 151 143 130 135 143 140 119 128 152 149 146 120 96 112 110 112 101 113 73 67 45 53 76 83 80 81 77 80 87 99 108 107 97 114 125 132 140 153 166 178 176 186 192 185 177 173 162 154 143 136 126 135 130 121 131 130 114 97 79 91 104 118 112 100 99 113 101 97 92 64 74 84 86 79 80 77 83 88 93 95 103 97 104 125 136 141 158 162 161 162 165 172 174 167 157 150 138 127 127 125 121 132 137 134 109 105 103 110 125 118 102 101 109 109 104 104 104 90 73 86 89 91 83 85 86 91 93 95 96 103 100 103 124 133 141 147 155 157 160 159 153 152 145 136 126 122 121 123 135 142 140 132 110 115 119 121 113 106 108 111 111 111\",\n          \"31 35 36 39 28 29 27 49 94 102 108 109 109 113 114 112 112 111 110 107 104 103 102 104 107 109 116 116 108 110 121 136 147 152 159 164 166 174 187 180 134 82 75 72 76 67 25 21 31 35 36 39 25 31 24 46 88 101 108 108 109 111 114 114 114 113 111 109 106 105 103 104 107 109 116 115 111 115 125 137 144 159 155 157 165 180 186 176 137 98 75 82 71 73 34 19 32 36 37 40 24 31 21 43 83 101 108 108 111 113 116 117 116 114 111 109 108 104 102 104 106 111 111 114 116 121 131 142 149 163 153 153 168 186 186 174 135 100 86 84 74 78 35 20 32 36 37 40 22 29 24 43 86 97 101 108 111 115 118 117 116 116 113 109 108 104 102 104 106 111 111 113 121 127 137 148 155 156 156 158 171 192 187 168 136 111 95 82 80 76 38 20 32 36 38 40 23 29 24 44 85 96 104 109 108 113 116 115 114 114 111 109 106 103 101 101 102 108 109 113 122 130 143 154 159 155 156 160 172 190 184 166 135 105 101 86 85 78 38 19 33 36 39 41 23 29 25 46 90 98 102 108 107 108 110 110 107 108 105 103 100 98 94 96 98 102 103 107 116 127 145 158 163 155 156 159 168 184 188 170 144 106 89 86 85 79 40 21 33 36 38 40 22 29 25 55 98 100 95 104 104 102 104 107 104 103 99 97 95 94 91 92 93 98 98 102 109 118 134 147 145 143 150 161 167 181 186 183 159 109 82 78 85 87 37 20 32 36 38 40 22 29 29 73 95 102 108 105 97 86 89 87 84 85 84 89 87 91 90 88 87 91 88 97 96 102 114 121 117 125 141 161 173 179 181 185 180 131 74 72 86 95 36 19 32 36 38 41 20 33 30 79 98 112 101 79 61 57 46 38 33 37 47 70 77 85 87 87 75 76 64 60 52 56 65 65 65 67 85 133 168 176 182 178 180 147 69 71 80 88 27 19 32 36 38 41 18 36 31 86 105 91 64 49 38 26 23 18 21 28 39 53 67 81 85 89 80 82 69 65 53 52 44 38 37 49 57 78 137 178 179 183 178 153 78 71 82 87 25 20 31 35 38 39 23 34 24 98 106 62 49 59 72 72 64 54 44 45 47 50 58 83 88 98 95 111 108 109 99 86 72 63 67 88 86 87 104 149 179 183 178 162 78 68 68 83 20 17 32 34 38 38 26 33 40 105 85 53 76 81 71 75 67 50 44 48 53 57 65 89 97 107 133 148 123 87 57 46 50 55 72 98 102 114 119 117 159 177 181 167 91 71 62 87 23 17 32 34 38 39 23 34 56 106 89 80 82 67 57 46 37 21 32 38 42 52 66 97 105 116 159 154 68 38 35 50 50 37 44 84 128 141 120 137 136 170 182 173 100 79 72 86 24 21 33 29 39 47 55 34 68 109 90 86 63 43 54 62 32 8 27 41 33 46 65 99 117 128 159 159 58 37 36 49 67 35 18 73 111 103 128 129 151 164 183 182 121 80 81 75 47 52 29 32 36 89 110 72 81 110 104 96 78 67 73 74 44 27 40 47 39 54 74 102 117 127 157 156 72 32 30 58 78 48 35 92 124 129 147 125 145 169 181 181 139 72 87 103 141 162 31 29 32 65 69 78 83 110 113 106 97 100 87 84 75 59 56 50 52 71 76 99 110 119 149 153 87 33 42 59 62 50 60 96 127 177 172 144 135 165 178 181 157 79 122 141 170 125 29 29 23 69 72 83 82 102 114 105 103 104 93 83 76 61 57 52 54 68 88 100 105 112 143 160 131 58 46 63 67 70 87 110 152 162 164 157 141 164 174 176 157 85 142 147 181 148 26 21 19 73 83 97 82 98 113 106 106 103 99 94 86 76 67 68 75 88 91 99 102 104 137 164 144 112 67 51 61 70 78 101 125 152 164 152 148 159 168 171 165 142 152 98 170 167 23 19 20 62 83 100 84 97 115 112 110 107 98 92 86 67 66 79 90 92 93 98 98 96 135 167 153 139 117 84 62 66 77 84 106 137 156 153 150 161 169 166 163 156 144 130 158 162 20 19 16 50 81 92 72 92 110 109 112 107 99 90 86 90 94 99 100 95 93 91 98 99 138 169 160 155 125 100 92 86 78 76 86 116 144 150 153 163 168 161 160 166 82 100 147 148 21 19 19 38 94 69 66 86 100 103 106 109 106 102 106 103 104 97 92 92 90 85 98 102 135 163 164 167 133 102 95 91 97 87 93 113 140 151 158 162 162 160 165 167 48 57 106 140 21 19 20 30 85 67 69 89 96 101 103 107 108 106 109 107 103 100 95 95 93 90 101 105 134 161 163 170 132 95 91 103 100 96 103 121 143 153 158 163 158 158 161 168 67 47 75 137 22 21 20 26 83 63 60 83 93 100 102 104 105 105 107 103 97 93 83 85 92 93 97 99 127 153 162 161 119 87 81 93 99 103 113 129 143 155 160 161 159 157 153 142 60 41 76 135 22 22 21 22 65 75 66 76 91 97 102 104 103 103 99 91 82 76 75 87 91 93 92 87 112 150 154 148 101 66 70 81 87 98 113 132 147 159 162 163 159 157 163 96 64 79 127 113 24 24 26 22 50 78 87 81 87 98 97 99 96 94 89 81 68 63 78 96 93 91 87 79 105 144 159 150 104 44 48 65 80 94 114 130 145 158 162 163 159 157 155 103 118 145 128 77 39 34 30 27 27 86 91 82 83 94 90 89 84 83 79 68 58 54 88 96 90 82 75 72 93 140 161 157 129 36 40 52 66 94 116 130 145 158 160 163 160 156 143 106 138 150 141 28 73 72 70 68 69 84 85 82 79 88 90 86 83 78 66 58 59 72 73 53 73 66 58 65 86 127 99 78 108 57 29 34 54 85 102 122 138 151 154 158 154 154 116 113 134 158 87 25 77 69 65 65 63 72 81 79 76 83 83 78 73 70 64 65 76 88 94 65 51 60 52 66 102 126 111 76 80 88 65 35 36 66 98 122 137 149 155 152 153 143 71 101 119 126 27 28 113 119 124 122 127 118 91 63 65 84 82 79 71 65 68 77 90 92 87 79 71 62 51 52 75 111 128 106 104 101 94 83 59 51 87 113 129 142 148 154 158 118 32 49 58 34 24 24 122 126 131 135 138 137 137 110 76 75 81 79 75 71 73 78 84 90 86 83 76 64 52 44 49 81 111 105 100 105 103 100 92 77 74 100 124 139 145 152 153 93 29 30 30 28 25 24 126 131 136 140 147 146 140 138 100 73 78 81 78 75 80 80 80 81 80 79 76 65 53 49 51 73 92 93 93 104 111 109 106 107 72 96 106 140 146 151 152 50 31 31 28 27 25 24 131 138 144 149 151 154 155 150 132 77 78 83 82 80 80 71 71 72 72 70 73 67 55 48 55 68 84 94 93 105 113 107 93 112 68 105 111 141 144 151 139 37 33 31 30 28 26 24 137 145 151 156 158 161 163 165 157 72 75 81 81 73 63 52 61 67 69 69 67 64 64 66 70 75 89 99 101 107 111 94 74 73 72 109 120 133 147 146 117 36 32 32 30 28 26 24 147 155 161 165 169 172 173 171 161 79 72 79 78 68 55 49 46 39 38 39 41 38 35 38 44 51 66 66 70 66 64 74 51 49 77 112 125 137 137 145 125 92 84 81 80 70 65 60 155 163 170 174 176 179 180 182 166 102 71 76 75 68 69 75 84 81 75 69 63 56 53 54 58 59 77 101 117 115 116 113 75 69 82 114 125 138 142 144 178 172 155 140 130 122 127 122 163 171 179 183 187 190 192 192 177 145 66 72 75 72 75 83 88 85 80 75 70 65 62 62 61 75 100 121 138 142 137 123 102 78 89 115 126 140 141 159 192 177 159 148 139 133 137 132 172 180 187 194 197 200 202 199 187 170 71 70 74 67 70 78 87 92 84 79 75 71 68 67 73 95 116 127 131 140 133 124 107 96 101 117 126 136 141 176 180 157 136 131 131 131 136 129 179 190 196 204 206 209 210 208 197 184 113 64 63 64 68 76 82 82 75 69 63 53 47 51 51 70 89 104 122 131 126 114 103 101 113 117 127 137 145 178 155 128 117 113 117 128 136 131 187 198 206 213 214 218 221 216 206 190 156 70 67 66 66 73 78 79 72 67 63 51 42 50 54 62 79 98 106 123 120 111 103 103 115 119 128 138 149 179 141 114 106 105 111 119 126 120 192 203 211 218 220 225 226 220 211 195 170 93 68 65 66 70 74 76 73 70 66 56 48 49 58 70 81 88 111 112 115 115 110 109 114 121 130 137 155 178 138 113 107 109 117 123 127 121 196 208 218 226 229 231 234 228 216 201 179 143 71 64 66 71 76 84 78 74 71 68 62 58 66 76 82 88 101 114 119 123 119 114 115 118 131 148 160 171 141 117 115 115 123 125 130 129 199 211 220 228 235 237 240 234 220 205 176 158 85 62 64 70 75 78 80 83 82 82 77 70 73 83 99 105 110 128 134 129 124 116 113 119 136 155 158 166 140 124 119 117 123 128 133 129 202 214 222 231 238 240 240 234 221 207 178 158 99 67 62 66 75 79 80 81 83 83 78 72 70 78 102 110 114 127 131 127 121 113 113 126 145 150 153 160 139 127 122 120 121 129 138 130 200 212 220 226 234 236 237 231 216 204 178 160 100 82 68 63 69 72 73 76 77 76 72 69 70 76 97 106 110 119 126 123 112 110 118 135 145 150 141 171 130 147 126 121 120 126 133 137 195 207 214 224 231 234 233 229 211 197 179 146 84 83 77 67 64 66 67 67 69 66 64 61 66 74 89 102 108 118 123 119 105 111 134 135 145 146 119 176 131 110 140 142 132 124 128 135 194 204 212 219 225 223 226 224 209 181 131 83 59 80 81 77 64 61 62 63 64 63 57 54 61 73 81 91 98 108 113 108 113 129 138 137 140 145 111 168 171 69 105 143 161 157 147 120 188 197 202 212 214 214 207 184 119 104 95 48 40 78 82 79 71 64 60 57 57 55 50 50 59 60 69 77 85 97 103 108 126 140 135 139 141 148 114 164 170 100 73 98 110 168 166 157 180 189 194 206 196 147 107 90 96 90 85 21 31 75 81 81 76 69 62 55 49 49 48 48 55 55 64 75 87 103 111 124 133 138 140 129 138 119 108 168 175 142 61 85 85 138 163 153\"\n        ],\n        \"semantic_type\": \"\",\n        \"description\": \"\"\n      }\n    }\n  ]\n}"
            }
          },
          "metadata": {},
          "execution_count": 18
        }
      ]
    },
    {
      "cell_type": "code",
      "source": [
        "index = 5005\n",
        "image = np.fromstring(dataframe['pixels'][index], sep = ' ', dtype = np.uint8).reshape((48,48))\n",
        "plt.title(dataframe['ethnicity'][index])\n",
        "plt.imshow(image, cmap =\"gray\")\n",
        "plt.show()"
      ],
      "metadata": {
        "colab": {
          "base_uri": "https://localhost:8080/",
          "height": 452
        },
        "id": "9LhCxZHtZkb3",
        "outputId": "5bb4548a-0929-4c98-8dbd-0bb52a034022"
      },
      "execution_count": null,
      "outputs": [
        {
          "output_type": "display_data",
          "data": {
            "text/plain": [
              "<Figure size 640x480 with 1 Axes>"
            ],
            "image/png": "[encoded data removed]"
          },
          "metadata": {}
        }
      ]
    },
    {
      "cell_type": "code",
      "source": [
        "EPOCHS = 70\n",
        "BATCH_SIZE = 32"
      ],
      "metadata": {
        "id": "48-M50gxZrOZ"
      },
      "execution_count": null,
      "outputs": []
    },
    {
      "cell_type": "code",
      "source": [
        "import numpy as np\n",
        "import cv2\n",
        "from tqdm import tqdm\n",
        "from tensorflow.keras.utils import Sequence, to_categorical\n",
        "from tensorflow.keras.preprocessing.image import ImageDataGenerator\n",
        "\n",
        "class CustomDataGen(Sequence):\n",
        "\n",
        "    def __init__(self, df, batch_size=32, input_size=(48, 48, 3), shuffle=True, data_augmentation=False):\n",
        "        # Filter out rows with incorrect pixel sizes\n",
        "        self.df = df[df['pixels'].apply(lambda x: len(x.split()) == 48*48)]\n",
        "        self.batch_size = batch_size\n",
        "        self.input_size = input_size\n",
        "        self.data_augmentation = data_augmentation\n",
        "\n",
        "        self.imageGenerator = ImageDataGenerator(\n",
        "            horizontal_flip=True,\n",
        "            fill_mode='nearest',\n",
        "            zoom_range=(1, 1.1),\n",
        "            width_shift_range=0.1,\n",
        "            height_shift_range=0.1,\n",
        "            rotation_range=10\n",
        "        )\n",
        "\n",
        "        self.images = []\n",
        "        self.age_labels = []\n",
        "        self.ethnicity_labels = []\n",
        "        self.gender_labels = []\n",
        "\n",
        "        for index, row in tqdm(self.df.iterrows(), total=self.df.shape[0]):\n",
        "            image = np.fromstring(row['pixels'], sep=' ', dtype=np.uint8).reshape((48, 48))\n",
        "            image = cv2.cvtColor(image, cv2.COLOR_GRAY2RGB)\n",
        "            self.images.append(image)\n",
        "\n",
        "            self.age_labels.append(row['age'])\n",
        "            self.ethnicity_labels.append(row['ethnicity'])\n",
        "            self.gender_labels.append(row['gender'])\n",
        "\n",
        "        self.images = np.array(self.images)\n",
        "        self.age_labels = np.array(self.age_labels).astype(np.float32)\n",
        "        self.ethnicity_labels = np.array(self.ethnicity_labels).astype(np.float32)\n",
        "        self.gender_labels = np.array(self.gender_labels).astype(np.float32)\n",
        "\n",
        "        if shuffle:\n",
        "            p = np.random.permutation(len(self.age_labels))\n",
        "            self.images = self.images[p]\n",
        "            self.age_labels = self.age_labels[p]\n",
        "            self.ethnicity_labels = to_categorical(self.ethnicity_labels[p], num_classes=5)\n",
        "            self.gender_labels = self.gender_labels[p]\n",
        "\n",
        "        self.n = len(self.df)\n",
        "\n",
        "    def __getitem__(self, index):\n",
        "        # Calculate start and end indices for the batch\n",
        "        start = index * self.batch_size\n",
        "        end = min(start + self.batch_size, self.n)  # Ensure the end index is within bounds\n",
        "\n",
        "        # Slice the data to make the batch\n",
        "        images_batch = self.images[start:end]\n",
        "\n",
        "        # Apply data augmentation if specified\n",
        "        if self.data_augmentation:\n",
        "            images_batch = np.array([self.imageGenerator.random_transform(img) for img in images_batch])\n",
        "\n",
        "        # Slice the labels to make the batch\n",
        "        age_labels_batch = self.age_labels[start:end]\n",
        "        ethnicity_labels_batch = self.ethnicity_labels[start:end]\n",
        "        gender_labels_batch = self.gender_labels[start:end]\n",
        "\n",
        "        # Return the batch\n",
        "        return images_batch, (age_labels_batch, ethnicity_labels_batch, gender_labels_batch)\n",
        "\n",
        "    def __len__(self):\n",
        "        return int(np.ceil(self.n / self.batch_size))\n",
        "\n",
        "    def on_epoch_end(self):\n",
        "        if self.data_augmentation:\n",
        "            # Random permutation\n",
        "            p = np.random.permutation(len(self.age_labels))\n",
        "            self.images = self.images[p]\n",
        "            self.age_labels = self.age_labels[p]\n",
        "            self.ethnicity_labels = self.ethnicity_labels[p]\n",
        "            self.gender_labels = self.gender_labels[p]\n",
        "\n",
        "# The rest of your code for splitting the DataFrame and creating the train and validation datasets\n",
        "msk = np.random.rand(len(dataframe)) < 0.8\n",
        "train = dataframe[msk]\n",
        "val = dataframe[~msk]\n",
        "\n",
        "train_dataset = CustomDataGen(train, data_augmentation=True)\n",
        "val_dataset = CustomDataGen(val)"
      ],
      "metadata": {
        "colab": {
          "base_uri": "https://localhost:8080/"
        },
        "id": "uoZOeVtuZuK5",
        "outputId": "d944539e-2579-4e5a-fdfd-951fdfbda695"
      },
      "execution_count": null,
      "outputs": [
        {
          "output_type": "stream",
          "name": "stderr",
          "text": [
            "100%|██████████| 16618/16618 [00:09<00:00, 1844.68it/s]\n",
            "100%|██████████| 4204/4204 [00:01<00:00, 2524.38it/s]\n"
          ]
        }
      ]
    },
    {
      "cell_type": "code",
      "source": [
        "train_dataset.on_epoch_end()\n",
        "x, y = train_dataset[450]\n",
        "print(x[21].max())\n",
        "print(y[0][0], y[1][0], y[2][0])\n",
        "plt.imshow(x[0])"
      ],
      "metadata": {
        "colab": {
          "base_uri": "https://localhost:8080/",
          "height": 482
        },
        "id": "BSxwv3_MZ0f9",
        "outputId": "77d03565-4861-4760-8286-de4afccf99fa"
      },
      "execution_count": null,
      "outputs": [
        {
          "output_type": "stream",
          "name": "stdout",
          "text": [
            "242\n",
            "35.0 [0. 1. 0. 0. 0.] 1.0\n"
          ]
        },
        {
          "output_type": "execute_result",
          "data": {
            "text/plain": [
              "<matplotlib.image.AxesImage at 0x7ba6b641b1c0>"
            ]
          },
          "metadata": {},
          "execution_count": 22
        },
        {
          "output_type": "display_data",
          "data": {
            "text/plain": [
              "<Figure size 640x480 with 1 Axes>"
            ],
            "image/png": "[encoded data removed]"
          },
          "metadata": {}
        }
      ]
    },
    {
      "cell_type": "code",
      "source": [
        "def build_model(input_shape = (48,48,3)):\n",
        "\n",
        "    i = tf.keras.layers.Input(input_shape, dtype = tf.uint8)\n",
        "    x = tf.cast(i, tf.float32)\n",
        "    x = tf.keras.applications.vgg16.preprocess_input(x)\n",
        "\n",
        "    backbone = tf.keras.applications.vgg16.VGG16(\n",
        "                include_top=False, weights='imagenet',\n",
        "                input_tensor=x\n",
        "            )\n",
        "    output_layer = backbone.get_layer(\"block5_conv3\").output\n",
        "\n",
        "\n",
        "    def build_age_branch(input_tensor):\n",
        "        x = tf.keras.layers.Dense(1024, activation = LeakyReLU(alpha=0.3))(input_tensor)\n",
        "        x = tf.keras.layers.BatchNormalization()(x)\n",
        "        x = tf.keras.layers.Dropout(0.2)(x)\n",
        "        x = tf.keras.layers.Dense(1, activation = None, name = 'age_output')(x)\n",
        "\n",
        "        return x\n",
        "\n",
        "    def build_etchnicity_branch(input_tensor):\n",
        "        x = tf.keras.layers.Dense(500, activation = LeakyReLU(alpha=0.3))(input_tensor)\n",
        "        x = tf.keras.layers.BatchNormalization()(x)\n",
        "        x = tf.keras.layers.Dropout(0.2)(x)\n",
        "        x = tf.keras.layers.Dense(5, activation = 'softmax', name = 'ethnicity_output')(x)\n",
        "\n",
        "        return x\n",
        "\n",
        "    def build_gender_branch(input_tensor):\n",
        "        x = tf.keras.layers.Dense(500, activation = LeakyReLU(alpha=0.3))(input_tensor)\n",
        "        x = tf.keras.layers.BatchNormalization()(x)\n",
        "        x = tf.keras.layers.Dropout(0.2)(x)\n",
        "        x = tf.keras.layers.Dense(1, activation = 'sigmoid', name = 'gender_output')(x)\n",
        "\n",
        "        return x\n",
        "\n",
        "    x = tf.keras.layers.Flatten()(output_layer)\n",
        "    output_age = build_age_branch(x)\n",
        "    output_ethnicity = build_etchnicity_branch(x)\n",
        "    output_gender = build_gender_branch(x)\n",
        "    model = tf.keras.Model(i, [output_age, output_ethnicity, output_gender])\n",
        "\n",
        "    return model"
      ],
      "metadata": {
        "id": "JGA_r80pZ3Bi"
      },
      "execution_count": null,
      "outputs": []
    },
    {
      "cell_type": "code",
      "source": [
        "model = build_model()\n",
        "model.summary()"
      ],
      "metadata": {
        "colab": {
          "base_uri": "https://localhost:8080/"
        },
        "id": "XeH2WebMcTwz",
        "outputId": "176d1b86-2d06-4dd8-b16c-3df9dff2efa2"
      },
      "execution_count": null,
      "outputs": [
        {
          "output_type": "stream",
          "name": "stdout",
          "text": [
            "Downloading data from https://storage.googleapis.com/tensorflow/keras-applications/vgg16/vgg16_weights_tf_dim_ordering_tf_kernels_notop.h5\n",
            "58889256/58889256 [==============================] - 1s 0us/step\n",
            "Model: \"model\"\n",
            "__________________________________________________________________________________________________\n",
            " Layer (type)                Output Shape                 Param #   Connected to                  \n",
            "==================================================================================================\n",
            " input_1 (InputLayer)        [(None, 48, 48, 3)]          0         []                            \n",
            "                                                                                                  \n",
            " tf.cast (TFOpLambda)        (None, 48, 48, 3)            0         ['input_1[0][0]']             \n",
            "                                                                                                  \n",
            " tf.__operators__.getitem (  (None, 48, 48, 3)            0         ['tf.cast[0][0]']             \n",
            " SlicingOpLambda)                                                                                 \n",
            "                                                                                                  \n",
            " tf.nn.bias_add (TFOpLambda  (None, 48, 48, 3)            0         ['tf.__operators__.getitem[0][\n",
            " )                                                                  0]']                          \n",
            "                                                                                                  \n",
            " block1_conv1 (Conv2D)       (None, 48, 48, 64)           1792      ['tf.nn.bias_add[0][0]']      \n",
            "                                                                                                  \n",
            " block1_conv2 (Conv2D)       (None, 48, 48, 64)           36928     ['block1_conv1[0][0]']        \n",
            "                                                                                                  \n",
            " block1_pool (MaxPooling2D)  (None, 24, 24, 64)           0         ['block1_conv2[0][0]']        \n",
            "                                                                                                  \n",
            " block2_conv1 (Conv2D)       (None, 24, 24, 128)          73856     ['block1_pool[0][0]']         \n",
            "                                                                                                  \n",
            " block2_conv2 (Conv2D)       (None, 24, 24, 128)          147584    ['block2_conv1[0][0]']        \n",
            "                                                                                                  \n",
            " block2_pool (MaxPooling2D)  (None, 12, 12, 128)          0         ['block2_conv2[0][0]']        \n",
            "                                                                                                  \n",
            " block3_conv1 (Conv2D)       (None, 12, 12, 256)          295168    ['block2_pool[0][0]']         \n",
            "                                                                                                  \n",
            " block3_conv2 (Conv2D)       (None, 12, 12, 256)          590080    ['block3_conv1[0][0]']        \n",
            "                                                                                                  \n",
            " block3_conv3 (Conv2D)       (None, 12, 12, 256)          590080    ['block3_conv2[0][0]']        \n",
            "                                                                                                  \n",
            " block3_pool (MaxPooling2D)  (None, 6, 6, 256)            0         ['block3_conv3[0][0]']        \n",
            "                                                                                                  \n",
            " block4_conv1 (Conv2D)       (None, 6, 6, 512)            1180160   ['block3_pool[0][0]']         \n",
            "                                                                                                  \n",
            " block4_conv2 (Conv2D)       (None, 6, 6, 512)            2359808   ['block4_conv1[0][0]']        \n",
            "                                                                                                  \n",
            " block4_conv3 (Conv2D)       (None, 6, 6, 512)            2359808   ['block4_conv2[0][0]']        \n",
            "                                                                                                  \n",
            " block4_pool (MaxPooling2D)  (None, 3, 3, 512)            0         ['block4_conv3[0][0]']        \n",
            "                                                                                                  \n",
            " block5_conv1 (Conv2D)       (None, 3, 3, 512)            2359808   ['block4_pool[0][0]']         \n",
            "                                                                                                  \n",
            " block5_conv2 (Conv2D)       (None, 3, 3, 512)            2359808   ['block5_conv1[0][0]']        \n",
            "                                                                                                  \n",
            " block5_conv3 (Conv2D)       (None, 3, 3, 512)            2359808   ['block5_conv2[0][0]']        \n",
            "                                                                                                  \n",
            " flatten (Flatten)           (None, 4608)                 0         ['block5_conv3[0][0]']        \n",
            "                                                                                                  \n",
            " dense (Dense)               (None, 1024)                 4719616   ['flatten[0][0]']             \n",
            "                                                                                                  \n",
            " dense_1 (Dense)             (None, 500)                  2304500   ['flatten[0][0]']             \n",
            "                                                                                                  \n",
            " dense_2 (Dense)             (None, 500)                  2304500   ['flatten[0][0]']             \n",
            "                                                                                                  \n",
            " batch_normalization (Batch  (None, 1024)                 4096      ['dense[0][0]']               \n",
            " Normalization)                                                                                   \n",
            "                                                                                                  \n",
            " batch_normalization_1 (Bat  (None, 500)                  2000      ['dense_1[0][0]']             \n",
            " chNormalization)                                                                                 \n",
            "                                                                                                  \n",
            " batch_normalization_2 (Bat  (None, 500)                  2000      ['dense_2[0][0]']             \n",
            " chNormalization)                                                                                 \n",
            "                                                                                                  \n",
            " dropout (Dropout)           (None, 1024)                 0         ['batch_normalization[0][0]'] \n",
            "                                                                                                  \n",
            " dropout_1 (Dropout)         (None, 500)                  0         ['batch_normalization_1[0][0]'\n",
            "                                                                    ]                             \n",
            "                                                                                                  \n",
            " dropout_2 (Dropout)         (None, 500)                  0         ['batch_normalization_2[0][0]'\n",
            "                                                                    ]                             \n",
            "                                                                                                  \n",
            " age_output (Dense)          (None, 1)                    1025      ['dropout[0][0]']             \n",
            "                                                                                                  \n",
            " ethnicity_output (Dense)    (None, 5)                    2505      ['dropout_1[0][0]']           \n",
            "                                                                                                  \n",
            " gender_output (Dense)       (None, 1)                    501       ['dropout_2[0][0]']           \n",
            "                                                                                                  \n",
            "==================================================================================================\n",
            "Total params: 24055431 (91.76 MB)\n",
            "Trainable params: 24051383 (91.75 MB)\n",
            "Non-trainable params: 4048 (15.81 KB)\n",
            "__________________________________________________________________________________________________\n"
          ]
        }
      ]
    },
    {
      "cell_type": "code",
      "source": [
        "model.compile(tf.keras.optimizers.Adam(learning_rate=1e-4), loss = ['mse', 'categorical_crossentropy', 'binary_crossentropy'], loss_weights = [0.001,0.5,0.5],\n",
        "              metrics = {'age_output': 'mean_absolute_error', 'ethnicity_output': 'accuracy', 'gender_output': 'accuracy'})\n",
        "\n",
        "plateau = tf.keras.callbacks.ReduceLROnPlateau(monitor='val_loss', factor=0.3, patience=2, verbose = 1)\n",
        "\n",
        "es = tf.keras.callbacks.EarlyStopping(monitor='val_loss', mode='min', verbose=1,patience=5)\n",
        "save_best = tf.keras.callbacks.ModelCheckpoint('weights_v1.h5', monitor='val_loss', save_best_only=True,mode='min', save_weights_only = True)\n",
        "\n",
        "history = model.fit(train_dataset,\n",
        "            epochs=EPOCHS,\n",
        "            batch_size = BATCH_SIZE,\n",
        "            validation_data=val_dataset,\n",
        "            callbacks = [es, save_best, plateau])"
      ],
      "metadata": {
        "colab": {
          "base_uri": "https://localhost:8080/"
        },
        "id": "TBsqkvdfcVzg",
        "outputId": "27a2805f-bd0d-43cf-d896-a61126100aee"
      },
      "execution_count": null,
      "outputs": [
        {
          "output_type": "stream",
          "name": "stdout",
          "text": [
            "Epoch 1/70\n",
            "520/520 [==============================] - 54s 67ms/step - loss: 1.6793 - age_output_loss: 931.1150 - ethnicity_output_loss: 1.0836 - gender_output_loss: 0.4128 - age_output_mean_absolute_error: 28.3723 - ethnicity_output_accuracy: 0.6252 - gender_output_accuracy: 0.8186 - val_loss: 1.2535 - val_age_output_loss: 692.6421 - val_ethnicity_output_loss: 0.8221 - val_gender_output_loss: 0.2996 - val_age_output_mean_absolute_error: 24.1800 - val_ethnicity_output_accuracy: 0.7131 - val_gender_output_accuracy: 0.8673 - lr: 1.0000e-04\n",
            "Epoch 2/70\n",
            "520/520 [==============================] - 38s 74ms/step - loss: 1.2447 - age_output_loss: 675.6149 - ethnicity_output_loss: 0.8334 - gender_output_loss: 0.3048 - age_output_mean_absolute_error: 24.0929 - ethnicity_output_accuracy: 0.7139 - gender_output_accuracy: 0.8718 - val_loss: 1.2352 - val_age_output_loss: 606.7484 - val_ethnicity_output_loss: 0.9624 - val_gender_output_loss: 0.2946 - val_age_output_mean_absolute_error: 22.3251 - val_ethnicity_output_accuracy: 0.7020 - val_gender_output_accuracy: 0.8739 - lr: 1.0000e-04\n",
            "Epoch 3/70\n",
            "520/520 [==============================] - 31s 60ms/step - loss: 0.8511 - age_output_loss: 339.4866 - ethnicity_output_loss: 0.7418 - gender_output_loss: 0.2815 - age_output_mean_absolute_error: 16.0109 - ethnicity_output_accuracy: 0.7514 - gender_output_accuracy: 0.8825 - val_loss: 1.2030 - val_age_output_loss: 532.2410 - val_ethnicity_output_loss: 0.9892 - val_gender_output_loss: 0.3523 - val_age_output_mean_absolute_error: 21.1965 - val_ethnicity_output_accuracy: 0.6772 - val_gender_output_accuracy: 0.8468 - lr: 1.0000e-04\n",
            "Epoch 4/70\n",
            "520/520 [==============================] - 30s 59ms/step - loss: 0.6030 - age_output_loss: 130.8840 - ethnicity_output_loss: 0.6863 - gender_output_loss: 0.2580 - age_output_mean_absolute_error: 8.8453 - ethnicity_output_accuracy: 0.7663 - gender_output_accuracy: 0.8926 - val_loss: 0.6757 - val_age_output_loss: 131.4111 - val_ethnicity_output_loss: 0.7958 - val_gender_output_loss: 0.2927 - val_age_output_mean_absolute_error: 9.0824 - val_ethnicity_output_accuracy: 0.7445 - val_gender_output_accuracy: 0.8782 - lr: 1.0000e-04\n",
            "Epoch 5/70\n",
            "520/520 [==============================] - 31s 60ms/step - loss: 0.5247 - age_output_loss: 81.0087 - ethnicity_output_loss: 0.6488 - gender_output_loss: 0.2386 - age_output_mean_absolute_error: 6.7868 - ethnicity_output_accuracy: 0.7786 - gender_output_accuracy: 0.9010 - val_loss: 0.5429 - val_age_output_loss: 81.8158 - val_ethnicity_output_loss: 0.7028 - val_gender_output_loss: 0.2193 - val_age_output_mean_absolute_error: 6.7698 - val_ethnicity_output_accuracy: 0.7624 - val_gender_output_accuracy: 0.9191 - lr: 1.0000e-04\n",
            "Epoch 6/70\n",
            "520/520 [==============================] - 32s 61ms/step - loss: 0.5039 - age_output_loss: 74.2788 - ethnicity_output_loss: 0.6243 - gender_output_loss: 0.2349 - age_output_mean_absolute_error: 6.5690 - ethnicity_output_accuracy: 0.7901 - gender_output_accuracy: 0.9044 - val_loss: 0.5529 - val_age_output_loss: 78.5229 - val_ethnicity_output_loss: 0.7150 - val_gender_output_loss: 0.2338 - val_age_output_mean_absolute_error: 6.6057 - val_ethnicity_output_accuracy: 0.7602 - val_gender_output_accuracy: 0.9115 - lr: 1.0000e-04\n",
            "Epoch 7/70\n",
            "519/520 [============================>.] - ETA: 0s - loss: 0.4722 - age_output_loss: 70.0537 - ethnicity_output_loss: 0.5934 - gender_output_loss: 0.2108 - age_output_mean_absolute_error: 6.3549 - ethnicity_output_accuracy: 0.7956 - gender_output_accuracy: 0.9136\n",
            "Epoch 7: ReduceLROnPlateau reducing learning rate to 2.9999999242136255e-05.\n",
            "520/520 [==============================] - 31s 60ms/step - loss: 0.4721 - age_output_loss: 70.0204 - ethnicity_output_loss: 0.5931 - gender_output_loss: 0.2110 - age_output_mean_absolute_error: 6.3535 - ethnicity_output_accuracy: 0.7956 - gender_output_accuracy: 0.9135 - val_loss: 0.5657 - val_age_output_loss: 88.3960 - val_ethnicity_output_loss: 0.6956 - val_gender_output_loss: 0.2590 - val_age_output_mean_absolute_error: 7.4668 - val_ethnicity_output_accuracy: 0.7783 - val_gender_output_accuracy: 0.9134 - lr: 1.0000e-04\n",
            "Epoch 8/70\n",
            "520/520 [==============================] - 31s 60ms/step - loss: 0.4005 - age_output_loss: 61.3503 - ethnicity_output_loss: 0.4987 - gender_output_loss: 0.1795 - age_output_mean_absolute_error: 5.9451 - ethnicity_output_accuracy: 0.8297 - gender_output_accuracy: 0.9277 - val_loss: 0.4832 - val_age_output_loss: 67.4897 - val_ethnicity_output_loss: 0.6039 - val_gender_output_loss: 0.2275 - val_age_output_mean_absolute_error: 6.2100 - val_ethnicity_output_accuracy: 0.7997 - val_gender_output_accuracy: 0.9101 - lr: 3.0000e-05\n",
            "Epoch 9/70\n",
            "520/520 [==============================] - 32s 61ms/step - loss: 0.3815 - age_output_loss: 59.0240 - ethnicity_output_loss: 0.4723 - gender_output_loss: 0.1727 - age_output_mean_absolute_error: 5.8102 - ethnicity_output_accuracy: 0.8405 - gender_output_accuracy: 0.9319 - val_loss: 0.4680 - val_age_output_loss: 61.7650 - val_ethnicity_output_loss: 0.6085 - val_gender_output_loss: 0.2040 - val_age_output_mean_absolute_error: 5.7375 - val_ethnicity_output_accuracy: 0.8035 - val_gender_output_accuracy: 0.9210 - lr: 3.0000e-05\n",
            "Epoch 10/70\n",
            "520/520 [==============================] - 31s 59ms/step - loss: 0.3704 - age_output_loss: 58.4565 - ethnicity_output_loss: 0.4585 - gender_output_loss: 0.1655 - age_output_mean_absolute_error: 5.8065 - ethnicity_output_accuracy: 0.8422 - gender_output_accuracy: 0.9361 - val_loss: 0.4804 - val_age_output_loss: 58.2880 - val_ethnicity_output_loss: 0.5903 - val_gender_output_loss: 0.2539 - val_age_output_mean_absolute_error: 5.6508 - val_ethnicity_output_accuracy: 0.8152 - val_gender_output_accuracy: 0.9065 - lr: 3.0000e-05\n",
            "Epoch 11/70\n",
            "519/520 [============================>.] - ETA: 0s - loss: 0.3517 - age_output_loss: 56.8521 - ethnicity_output_loss: 0.4316 - gender_output_loss: 0.1581 - age_output_mean_absolute_error: 5.7446 - ethnicity_output_accuracy: 0.8565 - gender_output_accuracy: 0.9395\n",
            "Epoch 11: ReduceLROnPlateau reducing learning rate to 8.999999772640877e-06.\n",
            "520/520 [==============================] - 31s 60ms/step - loss: 0.3519 - age_output_loss: 56.8490 - ethnicity_output_loss: 0.4317 - gender_output_loss: 0.1585 - age_output_mean_absolute_error: 5.7443 - ethnicity_output_accuracy: 0.8564 - gender_output_accuracy: 0.9394 - val_loss: 0.4703 - val_age_output_loss: 60.4748 - val_ethnicity_output_loss: 0.6092 - val_gender_output_loss: 0.2105 - val_age_output_mean_absolute_error: 5.6694 - val_ethnicity_output_accuracy: 0.7990 - val_gender_output_accuracy: 0.9186 - lr: 3.0000e-05\n",
            "Epoch 12/70\n",
            "520/520 [==============================] - 32s 61ms/step - loss: 0.3190 - age_output_loss: 53.9983 - ethnicity_output_loss: 0.3866 - gender_output_loss: 0.1434 - age_output_mean_absolute_error: 5.5871 - ethnicity_output_accuracy: 0.8692 - gender_output_accuracy: 0.9446 - val_loss: 0.4544 - val_age_output_loss: 60.4446 - val_ethnicity_output_loss: 0.5867 - val_gender_output_loss: 0.2012 - val_age_output_mean_absolute_error: 5.6752 - val_ethnicity_output_accuracy: 0.8130 - val_gender_output_accuracy: 0.9270 - lr: 9.0000e-06\n",
            "Epoch 13/70\n",
            "520/520 [==============================] - 32s 61ms/step - loss: 0.3091 - age_output_loss: 53.2656 - ethnicity_output_loss: 0.3748 - gender_output_loss: 0.1368 - age_output_mean_absolute_error: 5.5712 - ethnicity_output_accuracy: 0.8733 - gender_output_accuracy: 0.9499 - val_loss: 0.4479 - val_age_output_loss: 57.9267 - val_ethnicity_output_loss: 0.5782 - val_gender_output_loss: 0.2018 - val_age_output_mean_absolute_error: 5.5787 - val_ethnicity_output_accuracy: 0.8185 - val_gender_output_accuracy: 0.9272 - lr: 9.0000e-06\n",
            "Epoch 14/70\n",
            "520/520 [==============================] - 31s 60ms/step - loss: 0.3031 - age_output_loss: 52.8003 - ethnicity_output_loss: 0.3651 - gender_output_loss: 0.1356 - age_output_mean_absolute_error: 5.5350 - ethnicity_output_accuracy: 0.8753 - gender_output_accuracy: 0.9493 - val_loss: 0.4601 - val_age_output_loss: 56.3877 - val_ethnicity_output_loss: 0.6009 - val_gender_output_loss: 0.2065 - val_age_output_mean_absolute_error: 5.4729 - val_ethnicity_output_accuracy: 0.8157 - val_gender_output_accuracy: 0.9255 - lr: 9.0000e-06\n",
            "Epoch 15/70\n",
            "520/520 [==============================] - ETA: 0s - loss: 0.2982 - age_output_loss: 52.4465 - ethnicity_output_loss: 0.3578 - gender_output_loss: 0.1338 - age_output_mean_absolute_error: 5.5472 - ethnicity_output_accuracy: 0.8772 - gender_output_accuracy: 0.9505\n",
            "Epoch 15: ReduceLROnPlateau reducing learning rate to 2.6999998226528985e-06.\n",
            "520/520 [==============================] - 32s 61ms/step - loss: 0.2982 - age_output_loss: 52.4465 - ethnicity_output_loss: 0.3578 - gender_output_loss: 0.1338 - age_output_mean_absolute_error: 5.5472 - ethnicity_output_accuracy: 0.8772 - gender_output_accuracy: 0.9505 - val_loss: 0.4971 - val_age_output_loss: 59.4504 - val_ethnicity_output_loss: 0.6514 - val_gender_output_loss: 0.2240 - val_age_output_mean_absolute_error: 5.6976 - val_ethnicity_output_accuracy: 0.8088 - val_gender_output_accuracy: 0.9194 - lr: 9.0000e-06\n",
            "Epoch 16/70\n",
            "520/520 [==============================] - 32s 62ms/step - loss: 0.2785 - age_output_loss: 50.2133 - ethnicity_output_loss: 0.3318 - gender_output_loss: 0.1248 - age_output_mean_absolute_error: 5.3959 - ethnicity_output_accuracy: 0.8890 - gender_output_accuracy: 0.9535 - val_loss: 0.4689 - val_age_output_loss: 57.6950 - val_ethnicity_output_loss: 0.6125 - val_gender_output_loss: 0.2098 - val_age_output_mean_absolute_error: 5.5474 - val_ethnicity_output_accuracy: 0.8111 - val_gender_output_accuracy: 0.9279 - lr: 2.7000e-06\n",
            "Epoch 17/70\n",
            "520/520 [==============================] - ETA: 0s - loss: 0.2768 - age_output_loss: 51.1442 - ethnicity_output_loss: 0.3250 - gender_output_loss: 0.1264 - age_output_mean_absolute_error: 5.4640 - ethnicity_output_accuracy: 0.8887 - gender_output_accuracy: 0.9537\n",
            "Epoch 17: ReduceLROnPlateau reducing learning rate to 8.099999604382901e-07.\n",
            "520/520 [==============================] - 31s 60ms/step - loss: 0.2768 - age_output_loss: 51.1442 - ethnicity_output_loss: 0.3250 - gender_output_loss: 0.1264 - age_output_mean_absolute_error: 5.4640 - ethnicity_output_accuracy: 0.8887 - gender_output_accuracy: 0.9537 - val_loss: 0.4699 - val_age_output_loss: 59.6081 - val_ethnicity_output_loss: 0.6125 - val_gender_output_loss: 0.2080 - val_age_output_mean_absolute_error: 5.6458 - val_ethnicity_output_accuracy: 0.8118 - val_gender_output_accuracy: 0.9282 - lr: 2.7000e-06\n",
            "Epoch 18/70\n",
            "520/520 [==============================] - 31s 60ms/step - loss: 0.2683 - age_output_loss: 49.2906 - ethnicity_output_loss: 0.3169 - gender_output_loss: 0.1210 - age_output_mean_absolute_error: 5.3671 - ethnicity_output_accuracy: 0.8940 - gender_output_accuracy: 0.9546 - val_loss: 0.4697 - val_age_output_loss: 57.2462 - val_ethnicity_output_loss: 0.6142 - val_gender_output_loss: 0.2107 - val_age_output_mean_absolute_error: 5.5349 - val_ethnicity_output_accuracy: 0.8099 - val_gender_output_accuracy: 0.9286 - lr: 8.1000e-07\n",
            "Epoch 18: early stopping\n"
          ]
        }
      ]
    },
    {
      "cell_type": "code",
      "source": [
        "plt.plot(history.history['loss'])\n",
        "plt.plot(history.history['val_loss'])\n",
        "plt.title('model loss')\n",
        "plt.ylabel('loss')\n",
        "plt.xlabel('epoch')\n",
        "plt.legend(['train', 'validation'], loc='upper left')\n",
        "plt.yscale('log')\n",
        "plt.show()"
      ],
      "metadata": {
        "colab": {
          "base_uri": "https://localhost:8080/",
          "height": 472
        },
        "id": "bqZzrR-ccbsw",
        "outputId": "0e9f0b7d-6e3b-473e-e618-86c4dd906dae"
      },
      "execution_count": null,
      "outputs": [
        {
          "output_type": "display_data",
          "data": {
            "text/plain": [
              "<Figure size 640x480 with 1 Axes>"
            ],
            "image/png": "[encoded data removed]"
          },
          "metadata": {}
        }
      ]
    },
    {
      "cell_type": "code",
      "source": [
        "model.load_weights('weights_v1.h5')\n",
        "model.evaluate(val_dataset)"
      ],
      "metadata": {
        "colab": {
          "base_uri": "https://localhost:8080/"
        },
        "id": "nLB2Go6zf99E",
        "outputId": "70b3ed92-8fcd-4727-aab5-51eb1edac3e4"
      },
      "execution_count": null,
      "outputs": [
        {
          "output_type": "stream",
          "name": "stdout",
          "text": [
            "132/132 [==============================] - 3s 19ms/step - loss: 0.4479 - age_output_loss: 57.9267 - ethnicity_output_loss: 0.5782 - gender_output_loss: 0.2018 - age_output_mean_absolute_error: 5.5787 - ethnicity_output_accuracy: 0.8185 - gender_output_accuracy: 0.9272\n"
          ]
        },
        {
          "output_type": "execute_result",
          "data": {
            "text/plain": [
              "[0.44791436195373535,\n",
              " 57.92669677734375,\n",
              " 0.578220546245575,\n",
              " 0.2017551064491272,\n",
              " 5.5787458419799805,\n",
              " 0.8185061812400818,\n",
              " 0.9272121787071228]"
            ]
          },
          "metadata": {},
          "execution_count": 27
        }
      ]
    },
    {
      "cell_type": "code",
      "source": [
        "names_ethnicity = ['white', 'black', 'asian', 'indian', 'other']\n",
        "name_genders = ['male', 'female']"
      ],
      "metadata": {
        "id": "sZEwBNGEgByj"
      },
      "execution_count": null,
      "outputs": []
    },
    {
      "cell_type": "code",
      "source": [
        "images, labels = val_dataset[76]\n",
        "index = 0\n",
        "\n",
        "p = model.predict(images)\n",
        "\n",
        "gender_predictions = tf.where(p[2] > 0.5, 1, 0)\n",
        "plt.title(f'Prediction: {int(p[0][index])} years, {names_ethnicity[p[1][index].argmax()]}, {name_genders[gender_predictions[index][0]]}\\n'+\n",
        "         f'Real: {int(labels[0][index])} years, {names_ethnicity[labels[1][index].argmax()]}, {name_genders[int(labels[2][index])]}')\n",
        "plt.imshow(images[index])\n",
        "plt.show()"
      ],
      "metadata": {
        "colab": {
          "base_uri": "https://localhost:8080/",
          "height": 544
        },
        "id": "Jpg1z10vgF0q",
        "outputId": "25b5c993-c7b6-4d9b-ae3c-4c52a39614e7"
      },
      "execution_count": null,
      "outputs": [
        {
          "output_type": "stream",
          "name": "stdout",
          "text": [
            "1/1 [==============================] - 0s 38ms/step\n"
          ]
        },
        {
          "output_type": "stream",
          "name": "stderr",
          "text": [
            "<ipython-input-34-9517158a4086>:7: DeprecationWarning: Conversion of an array with ndim > 0 to a scalar is deprecated, and will error in future. Ensure you extract a single element from your array before performing this operation. (Deprecated NumPy 1.25.)\n",
            "  plt.title(f'Prediction: {int(p[0][index])} years, {names_ethnicity[p[1][index].argmax()]}, {name_genders[gender_predictions[index][0]]}\\n'+\n"
          ]
        },
        {
          "output_type": "display_data",
          "data": {
            "text/plain": [
              "<Figure size 640x480 with 1 Axes>"
            ],
            "image/png": "[encoded data removed]"
          },
          "metadata": {}
        }
      ]
    },
    {
      "cell_type": "code",
      "source": [],
      "metadata": {
        "id": "46EQ6SfSgIJV"
      },
      "execution_count": null,
      "outputs": []
    }
  ]
}